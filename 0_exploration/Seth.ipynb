{
 "cells": [
  {
   "cell_type": "markdown",
   "metadata": {},
   "source": [
    "# Data Exploration for the development of the first model\n"
   ]
  },
  {
   "cell_type": "code",
   "execution_count": 1,
   "metadata": {},
   "outputs": [],
   "source": [
    "import pandas as pd\n",
    "import numpy as np\n",
    "from collections import Counter\n",
    "from IPython.core.interactiveshell import InteractiveShell\n",
    "import seaborn as sns\n",
    "\n",
    "import tensorflow as tf\n",
    "\n",
    "from tensorflow.keras import layers"
   ]
  },
  {
   "cell_type": "code",
   "execution_count": 6,
   "metadata": {},
   "outputs": [],
   "source": [
    "df = pd.read_csv('/home/ubuntu/efs/original-data/meta_all.csv')"
   ]
  },
  {
   "cell_type": "code",
   "execution_count": 7,
   "metadata": {},
   "outputs": [],
   "source": [
    "# Convert the strings that are in 'features' to python lists\n",
    "df['features'] = df.features.apply(eval)"
   ]
  },
  {
   "cell_type": "code",
   "execution_count": 8,
   "metadata": {},
   "outputs": [],
   "source": [
    "# Find the distribution of features per item\n",
    "df['feature_len'] = df.features.apply(len)"
   ]
  },
  {
   "cell_type": "code",
   "execution_count": 9,
   "metadata": {},
   "outputs": [
    {
     "data": {
      "text/plain": [
       "'This is a histogram of the number of features per image'"
      ]
     },
     "execution_count": 9,
     "metadata": {},
     "output_type": "execute_result"
    },
    {
     "data": {
      "image/png": "[encoded data removed]",
      "text/plain": [
       "<Figure size 432x288 with 1 Axes>"
      ]
     },
     "metadata": {
      "needs_background": "light"
     },
     "output_type": "display_data"
    }
   ],
   "source": [
    "df.feature_len.hist()\n",
    "\"This is a histogram of the number of features per image\""
   ]
  },
  {
   "cell_type": "code",
   "execution_count": 10,
   "metadata": {},
   "outputs": [],
   "source": [
    "# This method is much faster than built in pandas function\n",
    "list_of_all_features = np.concatenate(df.features)"
   ]
  },
  {
   "cell_type": "code",
   "execution_count": 11,
   "metadata": {},
   "outputs": [
    {
     "data": {
      "text/plain": [
       "1483"
      ]
     },
     "execution_count": 11,
     "metadata": {},
     "output_type": "execute_result"
    }
   ],
   "source": [
    "# Find the total number of unique features\n",
    "len(set(list_of_all_features))"
   ]
  },
  {
   "cell_type": "code",
   "execution_count": 12,
   "metadata": {},
   "outputs": [
    {
     "data": {
      "text/plain": [
       "(277386, 20)"
      ]
     },
     "execution_count": 12,
     "metadata": {},
     "output_type": "execute_result"
    }
   ],
   "source": [
    "df.shape"
   ]
  },
  {
   "cell_type": "code",
   "execution_count": 13,
   "metadata": {},
   "outputs": [],
   "source": [
    "# Return the most common features\n",
    "feature_list_count = Counter(list_of_all_features).most_common()\n",
    "\n",
    "# List of all the rare features\n",
    "rare_features = [feature[0] for feature in feature_list_count if feature[1]<1000]\n",
    "\n",
    "# List of common features\n",
    "common_features = [feature[0] for feature in feature_list_count if feature[1]>=1000]"
   ]
  },
  {
   "cell_type": "code",
   "execution_count": 14,
   "metadata": {},
   "outputs": [
    {
     "name": "stdout",
     "output_type": "stream",
     "text": [
      "Number of rare features: 1215\n",
      "Number of common features: 268\n"
     ]
    }
   ],
   "source": [
    "print('Number of rare features: {}\\nNumber of common features: {}'.format(len(rare_features), len(common_features)))"
   ]
  },
  {
   "cell_type": "code",
   "execution_count": 18,
   "metadata": {},
   "outputs": [
    {
     "data": {
      "text/plain": [
       "['uni', 'silber']"
      ]
     },
     "execution_count": 18,
     "metadata": {},
     "output_type": "execute_result"
    },
    {
     "data": {
      "text/plain": [
       "{'uni'}"
      ]
     },
     "execution_count": 18,
     "metadata": {},
     "output_type": "execute_result"
    },
    {
     "name": "stdout",
     "output_type": "stream",
     "text": [
      "True\n",
      "False\n"
     ]
    }
   ],
   "source": [
    "# Print each line from this cell\n",
    "InteractiveShell.ast_node_interactivity = \"all\"\n",
    "\n",
    "# This cell is just checking to see that in a random instance \n",
    "# the features that are kept are the common ones\n",
    "\n",
    "random_slice = 1000\n",
    "\n",
    "df.features[random_slice]\n",
    "\n",
    "set(df.features[random_slice]).intersection(common_features)\n",
    "\n",
    "print('uni' in common_features)\n",
    "\n",
    "print('silber' in common_features)"
   ]
  },
  {
   "cell_type": "markdown",
   "metadata": {},
   "source": [
    "# Filter down to one image per product"
   ]
  },
  {
   "cell_type": "code",
   "execution_count": 16,
   "metadata": {},
   "outputs": [],
   "source": [
    "# make a df that has no product ID duplicates\n",
    "df_unique = df.drop_duplicates(subset=['prod_id'])\n",
    "df_unique.reset_index(drop=True, inplace=True)\n",
    "all_features = np.concatenate(df_unique.features)\n",
    "# make a df that counts the number of rows(unique photos) per "
   ]
  },
  {
   "cell_type": "code",
   "execution_count": 17,
   "metadata": {},
   "outputs": [
    {
     "data": {
      "text/plain": [
       "(99425, 21)"
      ]
     },
     "execution_count": 17,
     "metadata": {},
     "output_type": "execute_result"
    }
   ],
   "source": [
    "df_unique.shape"
   ]
  },
  {
   "cell_type": "code",
   "execution_count": 18,
   "metadata": {},
   "outputs": [
    {
     "data": {
      "text/plain": [
       "[('unifarben', 32808),\n",
       " ('CO', 31421),\n",
       " ('gemustertodermitdruck', 19368),\n",
       " ('langarm', 16052),\n",
       " ('EL', 14977),\n",
       " ('weichergriff', 14139),\n",
       " ('100baumwolle', 13390),\n",
       " ('kunstmischgewebe', 13254),\n",
       " ('PES', 12427),\n",
       " ('mittelschwerequalitaet', 11917),\n",
       " ('rundhalsausschnitt', 11795),\n",
       " ('reisverschluss', 11186),\n",
       " ('echtesleder', 10034),\n",
       " ('PA', 9250),\n",
       " ('leichtequalitaet', 7899),\n",
       " ('grafischemmuster', 6825),\n",
       " ('CV', 6447),\n",
       " ('mischgewebemitelasthan', 6141),\n",
       " ('casual', 6036),\n",
       " ('kurzarm', 6016),\n",
       " ('ausjersey', 5649),\n",
       " ('L18', 5412),\n",
       " ('normalelange', 4765),\n",
       " ('naturfasermitelasthan', 4730),\n",
       " ('knopfe', 4705),\n",
       " ('L1', 4199),\n",
       " ('gewebemitflacheroptik', 3973),\n",
       " ('naturfasermischgewebe', 3882),\n",
       " ('weihnachten', 3770),\n",
       " ('leistentaschen', 3716),\n",
       " ('WO', 3666),\n",
       " ('freizeit', 3635),\n",
       " ('aufdruck', 3576),\n",
       " ('normalebundhohe', 3566),\n",
       " ('SE', 3515),\n",
       " ('gummi', 3464),\n",
       " ('organischemmuster', 3421),\n",
       " ('streifenmuster', 3335),\n",
       " ('fachmitreissverschluss', 3252),\n",
       " ('papier', 3187),\n",
       " ('inmidirocklange', 3181),\n",
       " ('pullover', 2981),\n",
       " ('kunststoff', 2977),\n",
       " ('runderschuhspitze', 2917),\n",
       " ('madeingermany', 2902),\n",
       " ('uni', 2875),\n",
       " ('vausschnitt', 2836),\n",
       " ('Warmequalitaet', 2727),\n",
       " ('strick', 2717),\n",
       " ('leder', 2715),\n",
       " ('umhangeschultertaschen', 2640),\n",
       " ('CAC', 2617),\n",
       " ('stehkragen', 2461),\n",
       " ('tshirts', 2444),\n",
       " ('druckknopfe', 2432),\n",
       " ('glas', 2392),\n",
       " ('LI', 2357),\n",
       " ('goldfarbenedetails', 2291),\n",
       " ('edelstahl', 2273),\n",
       " ('festergriff', 2270),\n",
       " ('handtaschen', 2206),\n",
       " ('popelinegewebeflacheroptik', 2170),\n",
       " ('schalsundtucher', 2097),\n",
       " ('madeineurope', 2070),\n",
       " ('madeinswitzerland', 2029),\n",
       " ('fliessend', 2000),\n",
       " ('bis3cmabsatzhohe', 1979),\n",
       " ('schmalzulaufendgeschnittenesbein', 1945),\n",
       " ('ohnearm', 1900),\n",
       " ('100seide', 1867),\n",
       " ('business', 1842),\n",
       " ('CMD', 1806),\n",
       " ('blusenkragen', 1779),\n",
       " ('zumschlupfen', 1737),\n",
       " ('portemonnaie', 1696),\n",
       " ('feineschiffongewebe', 1681),\n",
       " ('innentasche', 1666),\n",
       " ('flach', 1630),\n",
       " ('fivepocket', 1602),\n",
       " ('pim-textil', 1567),\n",
       " ('ausdenim', 1562),\n",
       " ('reissverschluss', 1515),\n",
       " ('34armlange', 1503),\n",
       " ('schnurung', 1499),\n",
       " ('reverskragen', 1497),\n",
       " ('PU', 1496),\n",
       " ('100wolle', 1488),\n",
       " ('zumschnuren', 1477),\n",
       " ('blockabsatz', 1456),\n",
       " ('mitbrusttasche', 1454),\n",
       " ('kapuzenkragen', 1443),\n",
       " ('mitfarblichpassendeminnenfutter', 1395),\n",
       " ('freizeitkleider', 1369),\n",
       " ('porzellan', 1336),\n",
       " ('metall', 1265),\n",
       " ('steckfacher', 1243),\n",
       " ('100cashmere', 1224),\n",
       " ('mitverstellbarenmanschetten', 1222),\n",
       " ('textil', 1204),\n",
       " ('aufgesetztetaschen', 1198),\n",
       " ('karomuster', 1183),\n",
       " ('fransen', 1181),\n",
       " ('twillgewebeleichterschragverlaufenderstruktur', 1163),\n",
       " ('abend', 1160),\n",
       " ('mitglatterknopfleiste', 1156),\n",
       " ('manschettenmiteinemknopf', 1141),\n",
       " ('magnetverschluss', 1133),\n",
       " ('bugelfalten', 1131),\n",
       " ('100leinen', 1127),\n",
       " ('schlupfblusen', 1117),\n",
       " ('doppelkarte', 1107),\n",
       " ('shirts', 1106),\n",
       " ('glitzerapplikationen', 1105),\n",
       " ('Strukturstrick', 1102),\n",
       " ('kentkragen', 1099),\n",
       " ('pim-edelstahl', 1090),\n",
       " ('kunstleder', 1078),\n",
       " ('L2', 1070),\n",
       " ('mitaufgesetzterknopfleiste', 1059),\n",
       " ('weihnacht', 1052),\n",
       " ('polokragen', 1046),\n",
       " ('78lange', 1018),\n",
       " ('MER', 1011),\n",
       " ('holz', 1006),\n",
       " ('ohnekragenstabchen', 989),\n",
       " ('pattentaschen', 968),\n",
       " ('sneakers', 966),\n",
       " ('madeinfrance', 959),\n",
       " ('reissverschlusstaschen', 955),\n",
       " ('socken', 946),\n",
       " ('mitkontrastfarbeneninnenfutter', 935),\n",
       " ('madeinitaly', 935),\n",
       " ('PAN', 928),\n",
       " ('raglanarmel', 912),\n",
       " ('farbig', 910),\n",
       " ('oxfordgewebestrukturierteroptik', 903),\n",
       " ('verstellbar', 889),\n",
       " ('strickjacken', 882),\n",
       " ('stiefelstiefeletten', 882),\n",
       " ('blusen', 865),\n",
       " ('armabschlussmitelastischenbuendchen', 852),\n",
       " ('gewebemitstrukturierteroptik', 848),\n",
       " ('armabschlussmitknoepfen', 843),\n",
       " ('rechteckig', 832),\n",
       " ('silberfarbenedetails', 826),\n",
       " ('WV', 823),\n",
       " ('mitdessin', 811),\n",
       " ('mineral', 810),\n",
       " ('poloshirts', 804),\n",
       " ('analog', 800),\n",
       " ('kreditkartenfacher', 791),\n",
       " ('stoffhosen', 791),\n",
       " ('applikationen', 785),\n",
       " ('kurz', 779),\n",
       " ('schragertascheneingriff', 777),\n",
       " ('madeinuk', 768),\n",
       " ('slipsstringspanties', 763),\n",
       " ('buttondownkragen', 762),\n",
       " ('pim-kunststoff', 760),\n",
       " ('sweatjs', 758),\n",
       " ('chambraygewebeleichtstrukturierteroptik', 750),\n",
       " ('basics', 747),\n",
       " ('mitschoenerraffung', 741),\n",
       " ('rund', 734),\n",
       " ('geradegeschnittenesbein', 727),\n",
       " ('abnehmbarerlaengenverstellbarerschulterriemen', 713),\n",
       " ('Sneakertief', 710),\n",
       " ('pyjamas', 708),\n",
       " ('flauschigergriff', 705),\n",
       " ('yoga', 704),\n",
       " ('mitunterkleid', 697),\n",
       " ('punkte', 689),\n",
       " ('facher', 687),\n",
       " ('madeinusa', 683),\n",
       " ('satin', 682),\n",
       " ('sonnenbrillen', 668),\n",
       " ('hakenverschluss', 668),\n",
       " ('ohneinnenfutter', 666),\n",
       " ('riegelverschluss', 660),\n",
       " ('keinewaschung', 658),\n",
       " ('leichttransparent', 655),\n",
       " ('CA', 654),\n",
       " ('modischerwaesche', 653),\n",
       " ('mitspitze', 650),\n",
       " ('slip', 649),\n",
       " ('ganzjahrig', 649),\n",
       " ('krawatten', 643),\n",
       " ('mitgeschenkschachtel', 630),\n",
       " ('L16', 621),\n",
       " ('bhs', 584),\n",
       " ('clutchabendtaschen', 582),\n",
       " ('schwerequalitaet', 582),\n",
       " ('von3cm6cmabsatzhohe', 581),\n",
       " ('herausnehmbarekragenstabchen', 575),\n",
       " ('spitzenansatz', 574),\n",
       " ('aluminium', 567),\n",
       " ('keramik', 567),\n",
       " ('liebefreundschaft', 564),\n",
       " ('quartz', 563),\n",
       " ('hutemutzeundcaps', 562),\n",
       " ('MitApplikationen', 551),\n",
       " ('spitzeschuhspitze', 551),\n",
       " ('hohebundhohe', 550),\n",
       " ('PI', 550),\n",
       " ('uber6cmabsatzhohe', 546),\n",
       " ('furjedenanlass', 539),\n",
       " ('halbschuhe', 539),\n",
       " ('offeneschuhspitze', 538),\n",
       " ('slipsshorts', 530),\n",
       " ('mitwaschung', 528),\n",
       " ('chinos', 520),\n",
       " ('logomusterung', 514),\n",
       " ('armbander', 505),\n",
       " ('weich', 502),\n",
       " ('pim-holz', 502),\n",
       " ('netzbetrieb', 501),\n",
       " ('sandalensandaletten', 501),\n",
       " ('uniweiss', 500),\n",
       " ('oberhandgriff', 500),\n",
       " ('100merinowolle', 498),\n",
       " ('geburtstag', 495),\n",
       " ('glaenzendeoberflaeche', 490),\n",
       " ('madeinportugal', 489),\n",
       " ('abnehmbarerkapuze', 486),\n",
       " ('tagwaesche', 484),\n",
       " ('daunensteppjacken', 480),\n",
       " ('gestreift', 467),\n",
       " ('passepoiltaschen', 466),\n",
       " ('kunststoffglaser', 465),\n",
       " ('bikinis', 463),\n",
       " ('baumwolle', 458),\n",
       " ('cocktailabendkleider', 442),\n",
       " ('GF', 440),\n",
       " ('eingenahtekragenstabchen', 439),\n",
       " ('haifischkragen', 439),\n",
       " ('2teilig', 431),\n",
       " ('matt', 431),\n",
       " ('anhaenger', 430),\n",
       " ('schals', 430),\n",
       " ('pim-acryl', 429),\n",
       " ('blumenmotive', 421),\n",
       " ('leicht', 421),\n",
       " ('gebunden', 421),\n",
       " ('ingeschenkbox', 415),\n",
       " ('CLY', 414),\n",
       " ('dornschliesse', 413),\n",
       " ('duopack', 411),\n",
       " ('rollkragen', 406),\n",
       " ('plateauabsatz', 404),\n",
       " ('party', 400)]"
      ]
     },
     "execution_count": 18,
     "metadata": {},
     "output_type": "execute_result"
    }
   ],
   "source": [
    "Counter(all_features).most_common(250)"
   ]
  },
  {
   "cell_type": "code",
   "execution_count": 19,
   "metadata": {},
   "outputs": [
    {
     "data": {
      "text/plain": [
       "<matplotlib.axes._subplots.AxesSubplot at 0x7faf2f7f9f50>"
      ]
     },
     "execution_count": 19,
     "metadata": {},
     "output_type": "execute_result"
    },
    {
     "data": {
      "image/png": "[encoded data removed]",
      "text/plain": [
       "<Figure size 432x288 with 1 Axes>"
      ]
     },
     "metadata": {
      "needs_background": "light"
     },
     "output_type": "display_data"
    }
   ],
   "source": [
    "# Number of images(globus_ids) for each product\n",
    "df.groupby('prod_id').count().globus_id.hist()"
   ]
  },
  {
   "cell_type": "code",
   "execution_count": 20,
   "metadata": {},
   "outputs": [
    {
     "name": "stdout",
     "output_type": "stream",
     "text": [
      "number of products with 1 photos: 25038\n",
      "number of products with 2 photos: 17631\n",
      "number of products with 3 photos: 19131\n",
      "number of products with 4 photos: 30077\n",
      "number of products with 5 photos: 6682\n",
      "number of products with 6 photos: 553\n",
      "number of products with 7 photos: 165\n",
      "number of products with 8 photos: 56\n",
      "number of products with 9 photos: 29\n",
      "number of products with 10 photos: 20\n",
      "number of products with 11 photos: 6\n",
      "number of products with 12 photos: 7\n",
      "number of products with 13 photos: 21\n",
      "number of products with 14 photos: 2\n",
      "number of products with 15 photos: 1\n",
      "number of products with 16 photos: 1\n",
      "number of products with 17 photos: 1\n",
      "number of products with 18 photos: 0\n",
      "number of products with 19 photos: 2\n",
      "number of products with 20 photos: 0\n",
      "number of products with 21 photos: 0\n",
      "number of products with 22 photos: 0\n",
      "number of products with 23 photos: 0\n",
      "number of products with 24 photos: 1\n"
     ]
    }
   ],
   "source": [
    "# Different way of representing the number of photos associated with particular products\n",
    "for i in range(1, 25):\n",
    "    print('number of products with {} photos:'.format(i), np.sum(df.groupby('prod_id').count().globus_id == i))"
   ]
  },
  {
   "cell_type": "code",
   "execution_count": 21,
   "metadata": {},
   "outputs": [],
   "source": [
    "# removes the 'others' description\n",
    "df2 = df[df.descr != 'others']\n",
    "# filter so that we only have products that occur more than 1500 times\n",
    "df2_filtered = df2.groupby('descr').filter(lambda x: len(x) >= 1500)"
   ]
  },
  {
   "cell_type": "code",
   "execution_count": 22,
   "metadata": {},
   "outputs": [
    {
     "name": "stdout",
     "output_type": "stream",
     "text": [
      "number of products with 0 photos: 0\n",
      "number of products with 1 photos: 3741\n",
      "number of products with 2 photos: 5265\n",
      "number of products with 3 photos: 5480\n",
      "number of products with 4 photos: 14240\n",
      "number of products with 5 photos: 2644\n",
      "number of products with 6 photos: 92\n",
      "number of products with 7 photos: 13\n",
      "number of products with 8 photos: 1\n",
      "number of products with 9 photos: 1\n"
     ]
    }
   ],
   "source": [
    "# Different way of representing the number of photos associated with particular products\n",
    "for i in range(10):\n",
    "    print('number of products with {} photos:'.format(i), np.sum(df2_filtered.groupby('prod_id').count().globus_id == i))"
   ]
  },
  {
   "cell_type": "code",
   "execution_count": 23,
   "metadata": {},
   "outputs": [
    {
     "data": {
      "text/plain": [
       "tshirt                  10584\n",
       "strickpullover           8908\n",
       "kleid                    6321\n",
       "hemdslimfit              5366\n",
       "schlupfbluse             4010\n",
       "poloshirt                3469\n",
       "umhangetasche            3387\n",
       "handtasche               3254\n",
       "portemonnaieausleder     3145\n",
       "stiefelette              3090\n",
       "strickjacke              3079\n",
       "sweatshirt               2978\n",
       "hemdregularfit           2807\n",
       "schal                    2708\n",
       "stoffhose                2644\n",
       "langarmshirt             2387\n",
       "schultertasche           2331\n",
       "top                      2325\n",
       "shorts                   2092\n",
       "ledersneaker             2031\n",
       "chinohose                2028\n",
       "hose                     1955\n",
       "rucksack                 1916\n",
       "baumschmuck              1828\n",
       "shopper                  1813\n",
       "bluse                    1807\n",
       "hemdtailliert            1797\n",
       "daunenjacke              1724\n",
       "slip                     1713\n",
       "cashmerepullover         1687\n",
       "sneaker                  1616\n",
       "socken                   1592\n",
       "pyjama                   1588\n",
       "shirt                    1571\n",
       "Name: descr, dtype: int64"
      ]
     },
     "execution_count": 23,
     "metadata": {},
     "output_type": "execute_result"
    }
   ],
   "source": [
    "df2_filtered['descr'].value_counts()"
   ]
  },
  {
   "cell_type": "code",
   "execution_count": 24,
   "metadata": {},
   "outputs": [],
   "source": [
    "tshirts = df2[df2['descr'] == 'tshirt']"
   ]
  },
  {
   "cell_type": "code",
   "execution_count": 25,
   "metadata": {},
   "outputs": [],
   "source": [
    "# make a df that has no product ID duplicates, so this is not by photo, it is by item\n",
    "df_temp = tshirts.drop_duplicates(subset=['prod_id'])\n",
    "df_temp.reset_index(drop=True, inplace=True)\n",
    "all_tshirt_features = np.concatenate(df_temp.features)"
   ]
  },
  {
   "cell_type": "code",
   "execution_count": 26,
   "metadata": {},
   "outputs": [
    {
     "name": "stdout",
     "output_type": "stream",
     "text": [
      "Number of features tshirts are tagged with:  125\n"
     ]
    }
   ],
   "source": [
    "print(\"Number of features tshirts are tagged with: \", len(Counter(all_tshirt_features).most_common()))"
   ]
  },
  {
   "cell_type": "code",
   "execution_count": 27,
   "metadata": {},
   "outputs": [
    {
     "name": "stdout",
     "output_type": "stream",
     "text": [
      "There are 2947 tshirts\n",
      "There are 10584 images of shirts\n"
     ]
    }
   ],
   "source": [
    "print(\"There are\", len(set(tshirts.prod_id)), \"tshirts\")\n",
    "print(\"There are\", tshirts.shape[0], \"images of shirts\")"
   ]
  },
  {
   "cell_type": "markdown",
   "metadata": {},
   "source": [
    "# Narrowing the scope of the model to only the categories agreed upon"
   ]
  },
  {
   "cell_type": "code",
   "execution_count": 28,
   "metadata": {},
   "outputs": [],
   "source": [
    "cat = ['taschen', 'schuhe', 'pullover-strick', 'top-shirts-sweats',\n",
    "       'schals', 'hemden', 'hosen', 'oberteile', 'blusen-tuniken',\n",
    "       'shirts-tops-sweats', 'kleider']"
   ]
  },
  {
   "cell_type": "code",
   "execution_count": 29,
   "metadata": {},
   "outputs": [],
   "source": [
    "df_narrow = df[df.hierarchy_2.isin(cat)]"
   ]
  },
  {
   "cell_type": "code",
   "execution_count": 30,
   "metadata": {},
   "outputs": [
    {
     "data": {
      "text/plain": [
       "(115267, 21)"
      ]
     },
     "execution_count": 30,
     "metadata": {},
     "output_type": "execute_result"
    }
   ],
   "source": [
    "df_narrow.shape"
   ]
  },
  {
   "cell_type": "code",
   "execution_count": 31,
   "metadata": {},
   "outputs": [],
   "source": [
    "df_narrow_unique = df_narrow.drop_duplicates(subset=['prod_id'])"
   ]
  },
  {
   "cell_type": "code",
   "execution_count": 32,
   "metadata": {},
   "outputs": [
    {
     "data": {
      "text/plain": [
       "(33997, 21)"
      ]
     },
     "execution_count": 32,
     "metadata": {},
     "output_type": "execute_result"
    }
   ],
   "source": [
    "df_narrow_unique.shape"
   ]
  },
  {
   "cell_type": "code",
   "execution_count": 33,
   "metadata": {},
   "outputs": [
    {
     "data": {
      "text/plain": [
       "Index(['unique_id', 'globus_id', 'descr', 'name', 'gender', 'source_color',\n",
       "       'color', 'url', 'features', 'season', 'hierarchy_full', 'hierarchy_1',\n",
       "       'hierarchy_2', 'hierarchy_3', 'hierarchy_4', 'hierarchy_5',\n",
       "       'hierarchy_6', 'href', 'prod_id', 'feature_len', 'common_features'],\n",
       "      dtype='object')"
      ]
     },
     "execution_count": 33,
     "metadata": {},
     "output_type": "execute_result"
    }
   ],
   "source": [
    "df_narrow_unique.columns"
   ]
  },
  {
   "cell_type": "code",
   "execution_count": 34,
   "metadata": {},
   "outputs": [
    {
     "data": {
      "text/plain": [
       "unique_id              0\n",
       "globus_id              0\n",
       "descr                  0\n",
       "name                  52\n",
       "gender                 0\n",
       "source_color           7\n",
       "color                 98\n",
       "url                    0\n",
       "features               0\n",
       "season                 0\n",
       "hierarchy_full         0\n",
       "hierarchy_1            0\n",
       "hierarchy_2            0\n",
       "hierarchy_3        33997\n",
       "hierarchy_4        33997\n",
       "hierarchy_5        33997\n",
       "hierarchy_6        33997\n",
       "href                   0\n",
       "prod_id                0\n",
       "feature_len            0\n",
       "common_features        0\n",
       "dtype: int64"
      ]
     },
     "execution_count": 34,
     "metadata": {},
     "output_type": "execute_result"
    }
   ],
   "source": [
    "df_narrow_unique.isna().sum()"
   ]
  },
  {
   "cell_type": "code",
   "execution_count": 35,
   "metadata": {},
   "outputs": [
    {
     "data": {
      "text/plain": [
       "taschen               6587\n",
       "schuhe                4174\n",
       "pullover-strick       3902\n",
       "top-shirts-sweats     2995\n",
       "schals                2551\n",
       "hemden                2416\n",
       "hosen                 2343\n",
       "oberteile             2312\n",
       "blusen-tuniken        2290\n",
       "shirts-tops-sweats    2223\n",
       "kleider               2204\n",
       "Name: hierarchy_2, dtype: int64"
      ]
     },
     "execution_count": 35,
     "metadata": {},
     "output_type": "execute_result"
    }
   ],
   "source": [
    "# Check to see the number of products in hierarchy_2\n",
    "df_narrow_unique.hierarchy_2.value_counts()"
   ]
  },
  {
   "cell_type": "code",
   "execution_count": 36,
   "metadata": {},
   "outputs": [
    {
     "data": {
      "text/plain": [
       "schuhe                15956\n",
       "taschen               15371\n",
       "pullover-strick       15186\n",
       "top-shirts-sweats     11606\n",
       "hemden                10931\n",
       "blusen-tuniken         9141\n",
       "hosen                  9096\n",
       "kleider                8804\n",
       "shirts-tops-sweats     8732\n",
       "oberteile              5460\n",
       "schals                 4984\n",
       "Name: hierarchy_2, dtype: int64"
      ]
     },
     "execution_count": 36,
     "metadata": {},
     "output_type": "execute_result"
    }
   ],
   "source": [
    "df_narrow.hierarchy_2.value_counts()"
   ]
  },
  {
   "cell_type": "code",
   "execution_count": 37,
   "metadata": {},
   "outputs": [],
   "source": [
    "num_products = df_narrow_unique.hierarchy_2.value_counts().rename_axis('category').reset_index(name='product_counts')\n",
    "num_photos = df_narrow.hierarchy_2.value_counts().rename_axis('category').reset_index(name='photo_counts')"
   ]
  },
  {
   "cell_type": "code",
   "execution_count": 48,
   "metadata": {},
   "outputs": [],
   "source": [
    "counts_combined = pd.merge(num_photos, num_products, on=['category']).melt(id_vars='category')"
   ]
  },
  {
   "cell_type": "code",
   "execution_count": 65,
   "metadata": {},
   "outputs": [
    {
     "data": {
      "text/plain": [
       "<matplotlib.axes._subplots.AxesSubplot at 0x7faf4a28b6d0>"
      ]
     },
     "execution_count": 65,
     "metadata": {},
     "output_type": "execute_result"
    },
    {
     "data": {
      "text/plain": [
       "(array([ 0,  1,  2,  3,  4,  5,  6,  7,  8,  9, 10]),\n",
       " <a list of 11 Text xticklabel objects>)"
      ]
     },
     "execution_count": 65,
     "metadata": {},
     "output_type": "execute_result"
    },
    {
     "data": {
      "text/plain": [
       "<Figure size 1440x720 with 0 Axes>"
      ]
     },
     "execution_count": 65,
     "metadata": {},
     "output_type": "execute_result"
    },
    {
     "data": {
      "image/png": "[encoded data removed]",
      "text/plain": [
       "<Figure size 432x288 with 1 Axes>"
      ]
     },
     "metadata": {
      "needs_background": "light"
     },
     "output_type": "display_data"
    },
    {
     "data": {
      "text/plain": [
       "<Figure size 1440x720 with 0 Axes>"
      ]
     },
     "metadata": {},
     "output_type": "display_data"
    }
   ],
   "source": [
    "sns.barplot(x='category', y='value', hue='variable', data = counts_combined)\n",
    "plt.xticks(rotation=90)\n",
    "plt.figure(figsize=(20,10))\n",
    "plt.show()"
   ]
  },
  {
   "cell_type": "markdown",
   "metadata": {},
   "source": [
    "## Distribution of photos per unique product"
   ]
  },
  {
   "cell_type": "code",
   "execution_count": 42,
   "metadata": {},
   "outputs": [
    {
     "data": {
      "text/plain": [
       "<matplotlib.axes._subplots.AxesSubplot at 0x7faf4be87450>"
      ]
     },
     "execution_count": 42,
     "metadata": {},
     "output_type": "execute_result"
    },
    {
     "data": {
      "image/png": "[encoded data removed]",
      "text/plain": [
       "<Figure size 432x288 with 1 Axes>"
      ]
     },
     "metadata": {
      "needs_background": "light"
     },
     "output_type": "display_data"
    }
   ],
   "source": [
    "df_narrow[df_narrow.hierarchy_2 == 'schuhe'].groupby('prod_id').count().globus_id.hist()"
   ]
  },
  {
   "cell_type": "code",
   "execution_count": 43,
   "metadata": {},
   "outputs": [
    {
     "data": {
      "text/plain": [
       "<matplotlib.axes._subplots.AxesSubplot at 0x7faf4be25b10>"
      ]
     },
     "execution_count": 43,
     "metadata": {},
     "output_type": "execute_result"
    },
    {
     "data": {
      "image/png": "[encoded data removed]",
      "text/plain": [
       "<Figure size 432x288 with 1 Axes>"
      ]
     },
     "metadata": {
      "needs_background": "light"
     },
     "output_type": "display_data"
    }
   ],
   "source": [
    "df_narrow[df_narrow.hierarchy_2 == 'taschen'].groupby('prod_id').count().globus_id.hist()"
   ]
  },
  {
   "cell_type": "markdown",
   "metadata": {},
   "source": [
    "# Visualize a picture"
   ]
  },
  {
   "cell_type": "code",
   "execution_count": 14,
   "metadata": {},
   "outputs": [
    {
     "name": "stdout",
     "output_type": "stream",
     "text": [
      "Populating the interactive namespace from numpy and matplotlib\n"
     ]
    }
   ],
   "source": [
    "from PIL import Image\n",
    "import matplotlib.pyplot as plt\n",
    "import matplotlib.image as mpimg\n",
    "%pylab inline"
   ]
  },
  {
   "cell_type": "code",
   "execution_count": 15,
   "metadata": {},
   "outputs": [
    {
     "name": "stderr",
     "output_type": "stream",
     "text": [
      "/home/ubuntu/anaconda3/envs/py374/lib/python3.7/site-packages/PIL/Image.py:2817: UserWarning: image file could not be identified because WEBP support not installed\n",
      "  warnings.warn(message)\n"
     ]
    },
    {
     "ename": "OSError",
     "evalue": "cannot identify image file '/home/ubuntu/efs/original-data/pictures/damen/39694.webp'",
     "output_type": "error",
     "traceback": [
      "\u001b[0;31m---------------------------------------------------------------------------\u001b[0m",
      "\u001b[0;31mOSError\u001b[0m                                   Traceback (most recent call last)",
      "\u001b[0;32m<ipython-input-15-bb17aaf5fbcf>\u001b[0m in \u001b[0;36m<module>\u001b[0;34m\u001b[0m\n\u001b[1;32m      1\u001b[0m \u001b[0mpics\u001b[0m \u001b[0;34m=\u001b[0m \u001b[0;34m'/home/ubuntu/efs/original-data/pictures/'\u001b[0m\u001b[0;34m\u001b[0m\u001b[0;34m\u001b[0m\u001b[0m\n\u001b[1;32m      2\u001b[0m \u001b[0mloc\u001b[0m \u001b[0;34m=\u001b[0m \u001b[0;34m'damen/39694.webp'\u001b[0m\u001b[0;34m\u001b[0m\u001b[0;34m\u001b[0m\u001b[0m\n\u001b[0;32m----> 3\u001b[0;31m \u001b[0mim\u001b[0m \u001b[0;34m=\u001b[0m \u001b[0mImage\u001b[0m\u001b[0;34m.\u001b[0m\u001b[0mopen\u001b[0m\u001b[0;34m(\u001b[0m\u001b[0mpics\u001b[0m \u001b[0;34m+\u001b[0m \u001b[0mloc\u001b[0m\u001b[0;34m)\u001b[0m\u001b[0;34m.\u001b[0m\u001b[0mconvert\u001b[0m\u001b[0;34m(\u001b[0m\u001b[0;34m'RGB'\u001b[0m\u001b[0;34m)\u001b[0m\u001b[0;34m\u001b[0m\u001b[0;34m\u001b[0m\u001b[0m\n\u001b[0m\u001b[1;32m      4\u001b[0m \u001b[0mimgplot\u001b[0m \u001b[0;34m=\u001b[0m \u001b[0mplt\u001b[0m\u001b[0;34m.\u001b[0m\u001b[0mimshow\u001b[0m\u001b[0;34m(\u001b[0m\u001b[0mim\u001b[0m\u001b[0;34m)\u001b[0m\u001b[0;34m\u001b[0m\u001b[0;34m\u001b[0m\u001b[0m\n\u001b[1;32m      5\u001b[0m \u001b[0mplt\u001b[0m\u001b[0;34m.\u001b[0m\u001b[0mshow\u001b[0m\u001b[0;34m(\u001b[0m\u001b[0;34m)\u001b[0m\u001b[0;34m\u001b[0m\u001b[0;34m\u001b[0m\u001b[0m\n",
      "\u001b[0;32m~/anaconda3/envs/py374/lib/python3.7/site-packages/PIL/Image.py\u001b[0m in \u001b[0;36mopen\u001b[0;34m(fp, mode)\u001b[0m\n\u001b[1;32m   2816\u001b[0m     \u001b[0;32mfor\u001b[0m \u001b[0mmessage\u001b[0m \u001b[0;32min\u001b[0m \u001b[0maccept_warnings\u001b[0m\u001b[0;34m:\u001b[0m\u001b[0;34m\u001b[0m\u001b[0;34m\u001b[0m\u001b[0m\n\u001b[1;32m   2817\u001b[0m         \u001b[0mwarnings\u001b[0m\u001b[0;34m.\u001b[0m\u001b[0mwarn\u001b[0m\u001b[0;34m(\u001b[0m\u001b[0mmessage\u001b[0m\u001b[0;34m)\u001b[0m\u001b[0;34m\u001b[0m\u001b[0;34m\u001b[0m\u001b[0m\n\u001b[0;32m-> 2818\u001b[0;31m     \u001b[0;32mraise\u001b[0m \u001b[0mIOError\u001b[0m\u001b[0;34m(\u001b[0m\u001b[0;34m\"cannot identify image file %r\"\u001b[0m \u001b[0;34m%\u001b[0m \u001b[0;34m(\u001b[0m\u001b[0mfilename\u001b[0m \u001b[0;32mif\u001b[0m \u001b[0mfilename\u001b[0m \u001b[0;32melse\u001b[0m \u001b[0mfp\u001b[0m\u001b[0;34m)\u001b[0m\u001b[0;34m)\u001b[0m\u001b[0;34m\u001b[0m\u001b[0;34m\u001b[0m\u001b[0m\n\u001b[0m\u001b[1;32m   2819\u001b[0m \u001b[0;34m\u001b[0m\u001b[0m\n\u001b[1;32m   2820\u001b[0m \u001b[0;34m\u001b[0m\u001b[0m\n",
      "\u001b[0;31mOSError\u001b[0m: cannot identify image file '/home/ubuntu/efs/original-data/pictures/damen/39694.webp'"
     ]
    }
   ],
   "source": [
    "pics = '/home/ubuntu/efs/original-data/pictures/'\n",
    "loc = 'damen/39694.webp'\n",
    "im = Image.open(pics + loc).convert('RGB')\n",
    "imgplot = plt.imshow(im)\n",
    "plt.show()"
   ]
  },
  {
   "cell_type": "code",
   "execution_count": null,
   "metadata": {},
   "outputs": [],
   "source": [
    "df.iloc[1].url"
   ]
  },
  {
   "cell_type": "code",
   "execution_count": null,
   "metadata": {},
   "outputs": [],
   "source": [
    "# grab am image for a specific item in the df\n",
    "loc = 'damenaccessoires/taschen/1751581.webp'\n",
    "# 100020 to 1000000\n",
    "im = Image.open(pics + loc).convert('RGB')\n",
    "imgplot = plt.imshow(im)\n",
    "plt.show()\n"
   ]
  },
  {
   "cell_type": "code",
   "execution_count": null,
   "metadata": {},
   "outputs": [],
   "source": [
    "# Look at the first handbag, if the product id matches then the image is for the same product\n",
    "print(df.iloc[0].prod_id, df.iloc[1].prod_id, df.iloc[2].prod_id, df.iloc[3].prod_id)"
   ]
  },
  {
   "cell_type": "code",
   "execution_count": null,
   "metadata": {},
   "outputs": [],
   "source": [
    "imagenames = [df.iloc[i].globus_id for i in range(3)]"
   ]
  },
  {
   "cell_type": "code",
   "execution_count": null,
   "metadata": {},
   "outputs": [],
   "source": [
    "df.iloc[1].url"
   ]
  },
  {
   "cell_type": "code",
   "execution_count": null,
   "metadata": {},
   "outputs": [],
   "source": [
    "# grab am image for a specific item in the df\n",
    "for filename in imagenames:\n",
    "    loc = 'damenaccessoires/taschen/' + str(filename) + '.webp'\n",
    "    im = Image.open(pics + loc).convert('RGB')\n",
    "    imgplot = plt.imshow(im)\n",
    "    plt.show()"
   ]
  },
  {
   "cell_type": "code",
   "execution_count": null,
   "metadata": {},
   "outputs": [],
   "source": [
    "df.iloc[0]"
   ]
  }
 ],
 "metadata": {
  "kernelspec": {
   "display_name": "Environment (conda_tensorflow2_p36)",
   "language": "python",
   "name": "conda_tensorflow2_p36"
  },
  "language_info": {
   "codemirror_mode": {
    "name": "ipython",
    "version": 3
   },
   "file_extension": ".py",
   "mimetype": "text/x-python",
   "name": "python",
   "nbconvert_exporter": "python",
   "pygments_lexer": "ipython3",
   "version": "3.6.5"
  }
 },
 "nbformat": 4,
 "nbformat_minor": 2
}
