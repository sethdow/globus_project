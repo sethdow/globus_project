{
 "cells": [
  {
   "cell_type": "markdown",
   "metadata": {},
   "source": [
    "# Modeling"
   ]
  },
  {
   "cell_type": "code",
   "execution_count": 2,
   "metadata": {
    "code_folding": []
   },
   "outputs": [
    {
     "name": "stdout",
     "output_type": "stream",
     "text": [
      "2.0.0\n"
     ]
    }
   ],
   "source": [
    "# general Imports\n",
    "import os\n",
    "import pandas as pd\n",
    "import numpy as np\n",
    "import pickle\n",
    "from collections import Counter\n",
    "import sys\n",
    "\n",
    "# Plotting\n",
    "import matplotlib.pyplot as plt\n",
    "import matplotlib.image as mpimg\n",
    "import matplotlib.pyplot as plt\n",
    "import seaborn as sns\n",
    "from PIL import Image\n",
    "%matplotlib inline\n",
    "plt.rcParams['figure.figsize'] = (16,8)\n",
    "\n",
    "# Preprocessing\n",
    "import sklearn\n",
    "from sklearn.model_selection import train_test_split\n",
    "from sklearn.preprocessing import MultiLabelBinarizer\n",
    "\n",
    "# Neural Network\n",
    "from tensorflow.keras.preprocessing.image import ImageDataGenerator\n",
    "import tensorflow as tf\n",
    "from tensorflow.keras.models import Model, Sequential\n",
    "from tensorflow.keras.layers import Dense, Flatten, Dropout\n",
    "from tensorflow.keras.optimizers import Adam, RMSprop\n",
    "from tensorflow.keras.layers import concatenate, Input\n",
    "from tensorflow.keras.applications.vgg19 import VGG19\n",
    "from tensorflow.keras import backend as K\n",
    "from keras.callbacks import CSVLogger\n",
    "\n",
    "# import helper functions\n",
    "# add our pipeline folder to the path to import functions\n",
    "sys.path.insert(1, '../2_modeling')\n",
    "from model_helper_no_cache import *\n",
    "\n",
    "print(tf.__version__)"
   ]
  },
  {
   "cell_type": "markdown",
   "metadata": {},
   "source": [
    "# Set Parameters and directories to save models"
   ]
  },
  {
   "cell_type": "markdown",
   "metadata": {},
   "source": [
    "## Parameters"
   ]
  },
  {
   "cell_type": "code",
   "execution_count": 3,
   "metadata": {},
   "outputs": [],
   "source": [
    "model_id = 'Multi_input'\n",
    "number_of_images = 'all'\n",
    "EPOCHS = 30\n",
    "neurons_per_dense = 1024\n",
    "dense_layers = 2\n",
    "open_layers = 2\n",
    "penalty_weight = 10\n",
    "csv = '../1_cleaning/metadata_cleaned3.csv'"
   ]
  },
  {
   "cell_type": "markdown",
   "metadata": {},
   "source": [
    "# Preprocessing"
   ]
  },
  {
   "cell_type": "code",
   "execution_count": 4,
   "metadata": {},
   "outputs": [],
   "source": [
    "# One hot encode all the categorical variables, and get the image paths\n",
    "X_train_images, X_val_images, X_train_hier, X_val_hier, y_train_bin, y_val_bin, features = train_test_split_custom_2(number_of_images)"
   ]
  },
  {
   "cell_type": "code",
   "execution_count": 5,
   "metadata": {},
   "outputs": [],
   "source": [
    "# Create image pipeline and create dataset to feed model\n",
    "dataset_multi_train = create_dataset_multi(X_train_images,X_train_hier, y_train_bin)\n",
    "dataset_multi_val = create_dataset_multi(X_val_images,X_val_hier, y_val_bin)"
   ]
  },
  {
   "cell_type": "markdown",
   "metadata": {},
   "source": [
    "## Directories"
   ]
  },
  {
   "cell_type": "markdown",
   "metadata": {},
   "source": [
    "### File naming conventions\n",
    "Files should be saved in the following convention, which is outlined in the readme file\n",
    "model#_sample_size#_epoch#_dense#_trainable_layers_loss_function"
   ]
  },
  {
   "cell_type": "code",
   "execution_count": 6,
   "metadata": {},
   "outputs": [],
   "source": [
    "# Create the name of the model\n",
    "name_of_model = 'model_' + model_id + \\\n",
    "                '_sample_size_' + str(number_of_images) + \\\n",
    "                '_epoch_' + str(EPOCHS) + \\\n",
    "                '_dense_' + str(dense_layers) + \\\n",
    "                '_neurons_' + str(neurons_per_dense) + \\\n",
    "                '_losswbc_' + \\\n",
    "                '_num_open_layers_' + str(open_layers) + \\\n",
    "                '_penalty_weight_' + str(penalty_weight)\n",
    "\n",
    "# Send everything to the efs\n",
    "base_path = '/home/ubuntu/efs/models/'\n",
    "    \n",
    "# Directories for checkpoint\n",
    "checkpoint_path = base_path + 'Checkpoints/' + name_of_model + '.ckpt'\n",
    "checkpoint_dir = os.path.dirname(checkpoint_path)\n",
    "\n",
    "# For training history\n",
    "csv_logger = CSVLogger(base_path + 'Training_history/' + name_of_model + \"_history_log.csv\", append=True)\n",
    "training_history_path = base_path + 'Training_history/' + name_of_model + '.pickle'\n",
    "\n",
    "# For model saving once training has ended\n",
    "saved_model_path = base_path + 'Saved_models/' + name_of_model + '.h5'\n",
    "\n",
    "# Model Image path\n",
    "model_image_path = base_path + 'Model_image/' + model_id + '.png'\n"
   ]
  },
  {
   "cell_type": "markdown",
   "metadata": {},
   "source": [
    "# Model set-up"
   ]
  },
  {
   "cell_type": "markdown",
   "metadata": {},
   "source": [
    "## Load the VGG19 pretrained network "
   ]
  },
  {
   "cell_type": "code",
   "execution_count": 8,
   "metadata": {},
   "outputs": [],
   "source": [
    "# Setup the multi-input model from https://www.programcreek.com/python/example/89660/keras.layers.concatenate\n",
    "num_label = y_train_bin.shape[1]\n",
    "\n",
    "def getMultiModel():\n",
    "    \n",
    "    base_model = VGG19(include_top=False, weights='imagenet', input_shape=(224,224,3))\n",
    "    \n",
    "    # Setup the trainability of the VGG\n",
    "    base_model.trainable = False if open_layers < 1 else True\n",
    "    \n",
    "    for layer in base_model.layers[:-(open_layers+1):]:\n",
    "        layer.trainable =  False\n",
    "    \n",
    "    x = base_model.get_layer('block5_pool').output\n",
    "    \n",
    "\n",
    "    x = Flatten()(x)\n",
    "    \n",
    "    x = Dense(neurons_per_dense, activation='relu', name='fc_1')(x)\n",
    "    \n",
    "    input_2 = Input(shape=X_train_hier.shape[1], name=\"hier\")\n",
    "    \n",
    "    hier_layer = Dense(32, activation='relu', name = 'fc_hier')(input_2)\n",
    "    \n",
    "    merge_one = concatenate([x, hier_layer])\n",
    "    \n",
    "    merge_one = Dense(neurons_per_dense, activation='relu', name='fc_2')(merge_one)\n",
    "    merge_one = Dropout(0.3)(merge_one)\n",
    "    \n",
    "    predictions = Dense(num_label, activation='sigmoid')(merge_one)\n",
    "    \n",
    "    # Define the models\n",
    "    model = Model(inputs=[base_model.input, input_2], outputs=predictions)\n",
    "    \n",
    "    # Settings\n",
    "    LR = 1e-5\n",
    "    optimizer = Adam(lr=LR)\n",
    "    loss = weighted_bce\n",
    "    metrics = [accuracy_on_one, accuracy_on_zero, precision_on_1]\n",
    "    \n",
    "    model.compile(optimizer=optimizer, \n",
    "                  loss=loss, \n",
    "                  metrics=metrics)\n",
    "    \n",
    "    return model \n"
   ]
  },
  {
   "cell_type": "code",
   "execution_count": 9,
   "metadata": {},
   "outputs": [],
   "source": [
    "multi_input_model = getMultiModel()"
   ]
  },
  {
   "cell_type": "code",
   "execution_count": 10,
   "metadata": {
    "scrolled": true
   },
   "outputs": [
    {
     "data": {
      "text/plain": [
       "<matplotlib.image.AxesImage at 0x7fcd260f62e8>"
      ]
     },
     "execution_count": 10,
     "metadata": {},
     "output_type": "execute_result"
    },
    {
     "data": {
      "image/png": "[encoded data removed]",
      "text/plain": [
       "<Figure size 1152x576 with 1 Axes>"
      ]
     },
     "metadata": {
      "needs_background": "light"
     },
     "output_type": "display_data"
    }
   ],
   "source": [
    "tf.keras.utils.plot_model(\n",
    "    multi_input_model,\n",
    "    to_file=model_image_path,\n",
    "    show_shapes=False,\n",
    "    show_layer_names=True,\n",
    "    rankdir='TB',\n",
    "    expand_nested=False,\n",
    "    dpi=96\n",
    ")\n",
    "\n",
    "img = mpimg.imread(model_image_path)\n",
    "plt.imshow(img)"
   ]
  },
  {
   "cell_type": "code",
   "execution_count": 11,
   "metadata": {},
   "outputs": [],
   "source": [
    "# multi_input_model.summary()"
   ]
  },
  {
   "cell_type": "code",
   "execution_count": 12,
   "metadata": {},
   "outputs": [
    {
     "name": "stdout",
     "output_type": "stream",
     "text": [
      "False:\tinput_1\n",
      "False:\tblock1_conv1\n",
      "False:\tblock1_conv2\n",
      "False:\tblock1_pool\n",
      "False:\tblock2_conv1\n",
      "False:\tblock2_conv2\n",
      "False:\tblock2_pool\n",
      "False:\tblock3_conv1\n",
      "False:\tblock3_conv2\n",
      "False:\tblock3_conv3\n",
      "False:\tblock3_conv4\n",
      "False:\tblock3_pool\n",
      "False:\tblock4_conv1\n",
      "False:\tblock4_conv2\n",
      "False:\tblock4_conv3\n",
      "False:\tblock4_conv4\n",
      "False:\tblock4_pool\n",
      "False:\tblock5_conv1\n",
      "False:\tblock5_conv2\n",
      "True:\tblock5_conv3\n",
      "True:\tblock5_conv4\n",
      "True:\tblock5_pool\n",
      "True:\tflatten\n",
      "True:\thier\n",
      "True:\tfc_1\n",
      "True:\tfc_hier\n",
      "True:\tconcatenate\n",
      "True:\tfc_2\n",
      "True:\tdropout\n",
      "True:\tdense\n"
     ]
    }
   ],
   "source": [
    "print_layer_trainable(multi_input_model)"
   ]
  },
  {
   "cell_type": "code",
   "execution_count": 13,
   "metadata": {},
   "outputs": [
    {
     "data": {
      "text/plain": [
       "True"
      ]
     },
     "execution_count": 13,
     "metadata": {},
     "output_type": "execute_result"
    }
   ],
   "source": [
    "multi_input_model.trainable"
   ]
  },
  {
   "cell_type": "markdown",
   "metadata": {},
   "source": [
    "## Create a callback checkpoint "
   ]
  },
  {
   "cell_type": "code",
   "execution_count": 14,
   "metadata": {},
   "outputs": [],
   "source": [
    "# Create a callback that saves the model's weights\n",
    "cp_callback = tf.keras.callbacks.ModelCheckpoint(filepath=checkpoint_path,\n",
    "                                                 save_weights_only=True,\n",
    "                                                 verbose=1)"
   ]
  },
  {
   "cell_type": "code",
   "execution_count": 15,
   "metadata": {},
   "outputs": [
    {
     "name": "stdout",
     "output_type": "stream",
     "text": [
      "Epoch 1/30\n",
      "    417/Unknown - 158s 380ms/step - loss: 0.7453 - accuracy_on_one: 0.8235 - accuracy_on_zero: 0.7915 - precision_on_1: 0.2627\n",
      "Epoch 00001: saving model to /home/ubuntu/efs/models/Checkpoints/model_Multi_input_sample_size_all_epoch_30_dense_2_neurons_1024_losswbc__num_open_layers_2_penalty_weight_10.ckpt\n",
      "417/417 [==============================] - 199s 477ms/step - loss: 0.7453 - accuracy_on_one: 0.8235 - accuracy_on_zero: 0.7915 - precision_on_1: 0.2627 - val_loss: 0.0000e+00 - val_accuracy_on_one: 0.0000e+00 - val_accuracy_on_zero: 0.0000e+00 - val_precision_on_1: 0.0000e+00\n",
      "Epoch 2/30\n",
      "416/417 [============================>.] - ETA: 0s - loss: 0.5556 - accuracy_on_one: 0.8775 - accuracy_on_zero: 0.8594 - precision_on_1: 0.3437\n",
      "Epoch 00002: saving model to /home/ubuntu/efs/models/Checkpoints/model_Multi_input_sample_size_all_epoch_30_dense_2_neurons_1024_losswbc__num_open_layers_2_penalty_weight_10.ckpt\n",
      "417/417 [==============================] - 193s 464ms/step - loss: 0.5556 - accuracy_on_one: 0.8775 - accuracy_on_zero: 0.8594 - precision_on_1: 0.3437 - val_loss: 0.4716 - val_accuracy_on_one: 0.8987 - val_accuracy_on_zero: 0.8790 - val_precision_on_1: 0.3834\n",
      "Epoch 3/30\n",
      "416/417 [============================>.] - ETA: 0s - loss: 0.5038 - accuracy_on_one: 0.8918 - accuracy_on_zero: 0.8714 - precision_on_1: 0.3676\n",
      "Epoch 00003: saving model to /home/ubuntu/efs/models/Checkpoints/model_Multi_input_sample_size_all_epoch_30_dense_2_neurons_1024_losswbc__num_open_layers_2_penalty_weight_10.ckpt\n",
      "417/417 [==============================] - 194s 465ms/step - loss: 0.5038 - accuracy_on_one: 0.8918 - accuracy_on_zero: 0.8714 - precision_on_1: 0.3676 - val_loss: 0.4467 - val_accuracy_on_one: 0.9056 - val_accuracy_on_zero: 0.8844 - val_precision_on_1: 0.3961\n",
      "Epoch 4/30\n",
      "416/417 [============================>.] - ETA: 0s - loss: 0.4738 - accuracy_on_one: 0.9002 - accuracy_on_zero: 0.8779 - precision_on_1: 0.3819\n",
      "Epoch 00004: saving model to /home/ubuntu/efs/models/Checkpoints/model_Multi_input_sample_size_all_epoch_30_dense_2_neurons_1024_losswbc__num_open_layers_2_penalty_weight_10.ckpt\n",
      "417/417 [==============================] - 194s 464ms/step - loss: 0.4738 - accuracy_on_one: 0.9002 - accuracy_on_zero: 0.8779 - precision_on_1: 0.3820 - val_loss: 0.4330 - val_accuracy_on_one: 0.9094 - val_accuracy_on_zero: 0.8871 - val_precision_on_1: 0.4028\n",
      "Epoch 5/30\n",
      "416/417 [============================>.] - ETA: 0s - loss: 0.4511 - accuracy_on_one: 0.9068 - accuracy_on_zero: 0.8830 - precision_on_1: 0.3939\n",
      "Epoch 00005: saving model to /home/ubuntu/efs/models/Checkpoints/model_Multi_input_sample_size_all_epoch_30_dense_2_neurons_1024_losswbc__num_open_layers_2_penalty_weight_10.ckpt\n",
      "417/417 [==============================] - 195s 468ms/step - loss: 0.4511 - accuracy_on_one: 0.9068 - accuracy_on_zero: 0.8830 - precision_on_1: 0.3939 - val_loss: 0.4219 - val_accuracy_on_one: 0.9090 - val_accuracy_on_zero: 0.8923 - val_precision_on_1: 0.4139\n",
      "Epoch 6/30\n",
      "416/417 [============================>.] - ETA: 0s - loss: 0.4330 - accuracy_on_one: 0.9118 - accuracy_on_zero: 0.8870 - precision_on_1: 0.4034\n",
      "Epoch 00006: saving model to /home/ubuntu/efs/models/Checkpoints/model_Multi_input_sample_size_all_epoch_30_dense_2_neurons_1024_losswbc__num_open_layers_2_penalty_weight_10.ckpt\n",
      "417/417 [==============================] - 195s 468ms/step - loss: 0.4330 - accuracy_on_one: 0.9118 - accuracy_on_zero: 0.8870 - precision_on_1: 0.4035 - val_loss: 0.4142 - val_accuracy_on_one: 0.9111 - val_accuracy_on_zero: 0.8935 - val_precision_on_1: 0.4173\n",
      "Epoch 7/30\n",
      "416/417 [============================>.] - ETA: 0s - loss: 0.4180 - accuracy_on_one: 0.9161 - accuracy_on_zero: 0.8904 - precision_on_1: 0.4121\n",
      "Epoch 00007: saving model to /home/ubuntu/efs/models/Checkpoints/model_Multi_input_sample_size_all_epoch_30_dense_2_neurons_1024_losswbc__num_open_layers_2_penalty_weight_10.ckpt\n",
      "417/417 [==============================] - 195s 469ms/step - loss: 0.4180 - accuracy_on_one: 0.9161 - accuracy_on_zero: 0.8904 - precision_on_1: 0.4121 - val_loss: 0.4078 - val_accuracy_on_one: 0.9100 - val_accuracy_on_zero: 0.8970 - val_precision_on_1: 0.4253\n",
      "Epoch 8/30\n",
      "416/417 [============================>.] - ETA: 0s - loss: 0.4046 - accuracy_on_one: 0.9199 - accuracy_on_zero: 0.8935 - precision_on_1: 0.4199\n",
      "Epoch 00008: saving model to /home/ubuntu/efs/models/Checkpoints/model_Multi_input_sample_size_all_epoch_30_dense_2_neurons_1024_losswbc__num_open_layers_2_penalty_weight_10.ckpt\n",
      "417/417 [==============================] - 195s 468ms/step - loss: 0.4046 - accuracy_on_one: 0.9199 - accuracy_on_zero: 0.8934 - precision_on_1: 0.4199 - val_loss: 0.4027 - val_accuracy_on_one: 0.9110 - val_accuracy_on_zero: 0.8980 - val_precision_on_1: 0.4278\n",
      "Epoch 9/30\n",
      "416/417 [============================>.] - ETA: 0s - loss: 0.3813 - accuracy_on_one: 0.9273 - accuracy_on_zero: 0.8991 - precision_on_1: 0.4351\n",
      "Epoch 00010: saving model to /home/ubuntu/efs/models/Checkpoints/model_Multi_input_sample_size_all_epoch_30_dense_2_neurons_1024_losswbc__num_open_layers_2_penalty_weight_10.ckpt\n",
      "417/417 [==============================] - 195s 468ms/step - loss: 0.3813 - accuracy_on_one: 0.9273 - accuracy_on_zero: 0.8991 - precision_on_1: 0.4351 - val_loss: 0.3954 - val_accuracy_on_one: 0.9083 - val_accuracy_on_zero: 0.9032 - val_precision_on_1: 0.4401\n",
      "Epoch 11/30\n",
      "416/417 [============================>.] - ETA: 0s - loss: 0.3717 - accuracy_on_one: 0.9300 - accuracy_on_zero: 0.9013 - precision_on_1: 0.4414\n",
      "Epoch 00011: saving model to /home/ubuntu/efs/models/Checkpoints/model_Multi_input_sample_size_all_epoch_30_dense_2_neurons_1024_losswbc__num_open_layers_2_penalty_weight_10.ckpt\n",
      "417/417 [==============================] - 195s 467ms/step - loss: 0.3717 - accuracy_on_one: 0.9300 - accuracy_on_zero: 0.9013 - precision_on_1: 0.4414 - val_loss: 0.3937 - val_accuracy_on_one: 0.9058 - val_accuracy_on_zero: 0.9056 - val_precision_on_1: 0.4454\n",
      "Epoch 12/30\n",
      "416/417 [============================>.] - ETA: 0s - loss: 0.3625 - accuracy_on_one: 0.9331 - accuracy_on_zero: 0.9037 - precision_on_1: 0.4481\n",
      "Epoch 00012: saving model to /home/ubuntu/efs/models/Checkpoints/model_Multi_input_sample_size_all_epoch_30_dense_2_neurons_1024_losswbc__num_open_layers_2_penalty_weight_10.ckpt\n",
      "417/417 [==============================] - 195s 469ms/step - loss: 0.3625 - accuracy_on_one: 0.9331 - accuracy_on_zero: 0.9036 - precision_on_1: 0.4481 - val_loss: 0.3918 - val_accuracy_on_one: 0.9059 - val_accuracy_on_zero: 0.9067 - val_precision_on_1: 0.4484\n",
      "Epoch 13/30\n",
      "416/417 [============================>.] - ETA: 0s - loss: 0.3529 - accuracy_on_one: 0.9362 - accuracy_on_zero: 0.9060 - precision_on_1: 0.4549\n",
      "Epoch 00013: saving model to /home/ubuntu/efs/models/Checkpoints/model_Multi_input_sample_size_all_epoch_30_dense_2_neurons_1024_losswbc__num_open_layers_2_penalty_weight_10.ckpt\n",
      "417/417 [==============================] - 195s 467ms/step - loss: 0.3529 - accuracy_on_one: 0.9362 - accuracy_on_zero: 0.9060 - precision_on_1: 0.4549 - val_loss: 0.3895 - val_accuracy_on_one: 0.9061 - val_accuracy_on_zero: 0.9079 - val_precision_on_1: 0.4517\n",
      "Epoch 14/30\n",
      "416/417 [============================>.] - ETA: 0s - loss: 0.3445 - accuracy_on_one: 0.9388 - accuracy_on_zero: 0.9079 - precision_on_1: 0.4609\n",
      "Epoch 00014: saving model to /home/ubuntu/efs/models/Checkpoints/model_Multi_input_sample_size_all_epoch_30_dense_2_neurons_1024_losswbc__num_open_layers_2_penalty_weight_10.ckpt\n",
      "417/417 [==============================] - 196s 469ms/step - loss: 0.3445 - accuracy_on_one: 0.9388 - accuracy_on_zero: 0.9079 - precision_on_1: 0.4609 - val_loss: 0.3883 - val_accuracy_on_one: 0.9041 - val_accuracy_on_zero: 0.9099 - val_precision_on_1: 0.4566\n",
      "Epoch 15/30\n",
      "416/417 [============================>.] - ETA: 0s - loss: 0.3370 - accuracy_on_one: 0.9406 - accuracy_on_zero: 0.9097 - precision_on_1: 0.4663\n",
      "Epoch 00015: saving model to /home/ubuntu/efs/models/Checkpoints/model_Multi_input_sample_size_all_epoch_30_dense_2_neurons_1024_losswbc__num_open_layers_2_penalty_weight_10.ckpt\n",
      "417/417 [==============================] - 195s 468ms/step - loss: 0.3370 - accuracy_on_one: 0.9406 - accuracy_on_zero: 0.9097 - precision_on_1: 0.4663 - val_loss: 0.3878 - val_accuracy_on_one: 0.9029 - val_accuracy_on_zero: 0.9113 - val_precision_on_1: 0.4601\n"
     ]
    },
    {
     "name": "stdout",
     "output_type": "stream",
     "text": [
      "Epoch 16/30\n",
      "416/417 [============================>.] - ETA: 0s - loss: 0.3283 - accuracy_on_one: 0.9434 - accuracy_on_zero: 0.9119 - precision_on_1: 0.4731\n",
      "Epoch 00016: saving model to /home/ubuntu/efs/models/Checkpoints/model_Multi_input_sample_size_all_epoch_30_dense_2_neurons_1024_losswbc__num_open_layers_2_penalty_weight_10.ckpt\n",
      "417/417 [==============================] - 195s 468ms/step - loss: 0.3283 - accuracy_on_one: 0.9434 - accuracy_on_zero: 0.9119 - precision_on_1: 0.4731 - val_loss: 0.3875 - val_accuracy_on_one: 0.8996 - val_accuracy_on_zero: 0.9141 - val_precision_on_1: 0.4671\n",
      "Epoch 17/30\n",
      "324/417 [======================>.......] - ETA: 34s - loss: 0.3222 - accuracy_on_one: 0.9456 - accuracy_on_zero: 0.9135 - precision_on_1: 0.4785"
     ]
    },
    {
     "name": "stderr",
     "output_type": "stream",
     "text": [
      "IOPub message rate exceeded.\n",
      "The notebook server will temporarily stop sending output\n",
      "to the client in order to avoid crashing it.\n",
      "To change this limit, set the config variable\n",
      "`--NotebookApp.iopub_msg_rate_limit`.\n",
      "\n",
      "Current values:\n",
      "NotebookApp.iopub_msg_rate_limit=1000.0 (msgs/sec)\n",
      "NotebookApp.rate_limit_window=3.0 (secs)\n",
      "\n"
     ]
    },
    {
     "name": "stdout",
     "output_type": "stream",
     "text": [
      "416/417 [============================>.] - ETA: 0s - loss: 0.2559 - accuracy_on_one: 0.9650 - accuracy_on_zero: 0.9308 - precision_on_1: 0.5389\n",
      "Epoch 00027: saving model to /home/ubuntu/efs/models/Checkpoints/model_Multi_input_sample_size_all_epoch_30_dense_2_neurons_1024_losswbc__num_open_layers_2_penalty_weight_10.ckpt\n",
      "417/417 [==============================] - 194s 465ms/step - loss: 0.2559 - accuracy_on_one: 0.9650 - accuracy_on_zero: 0.9308 - precision_on_1: 0.5389 - val_loss: 0.4004 - val_accuracy_on_one: 0.8787 - val_accuracy_on_zero: 0.9283 - val_precision_on_1: 0.5065\n",
      "Epoch 28/30\n",
      "416/417 [============================>.] - ETA: 0s - loss: 0.2506 - accuracy_on_one: 0.9662 - accuracy_on_zero: 0.9322 - precision_on_1: 0.5443\n",
      "Epoch 00028: saving model to /home/ubuntu/efs/models/Checkpoints/model_Multi_input_sample_size_all_epoch_30_dense_2_neurons_1024_losswbc__num_open_layers_2_penalty_weight_10.ckpt\n",
      "417/417 [==============================] - 195s 467ms/step - loss: 0.2506 - accuracy_on_one: 0.9662 - accuracy_on_zero: 0.9322 - precision_on_1: 0.5443 - val_loss: 0.4032 - val_accuracy_on_one: 0.8764 - val_accuracy_on_zero: 0.9299 - val_precision_on_1: 0.5115\n",
      "Epoch 29/30\n",
      "416/417 [============================>.] - ETA: 0s - loss: 0.2446 - accuracy_on_one: 0.9677 - accuracy_on_zero: 0.9338 - precision_on_1: 0.5506\n",
      "Epoch 00029: saving model to /home/ubuntu/efs/models/Checkpoints/model_Multi_input_sample_size_all_epoch_30_dense_2_neurons_1024_losswbc__num_open_layers_2_penalty_weight_10.ckpt\n",
      "417/417 [==============================] - 194s 466ms/step - loss: 0.2446 - accuracy_on_one: 0.9677 - accuracy_on_zero: 0.9338 - precision_on_1: 0.5506 - val_loss: 0.4063 - val_accuracy_on_one: 0.8734 - val_accuracy_on_zero: 0.9315 - val_precision_on_1: 0.5164\n",
      "Epoch 30/30\n",
      "416/417 [============================>.] - ETA: 0s - loss: 0.2389 - accuracy_on_one: 0.9695 - accuracy_on_zero: 0.9354 - precision_on_1: 0.5571\n",
      "Epoch 00030: saving model to /home/ubuntu/efs/models/Checkpoints/model_Multi_input_sample_size_all_epoch_30_dense_2_neurons_1024_losswbc__num_open_layers_2_penalty_weight_10.ckpt\n",
      "417/417 [==============================] - 195s 468ms/step - loss: 0.2389 - accuracy_on_one: 0.9695 - accuracy_on_zero: 0.9354 - precision_on_1: 0.5571 - val_loss: 0.4133 - val_accuracy_on_one: 0.8689 - val_accuracy_on_zero: 0.9337 - val_precision_on_1: 0.5234\n"
     ]
    }
   ],
   "source": [
    "history = multi_input_model.fit(dataset_multi_train,\n",
    "                    epochs=EPOCHS,\n",
    "                    validation_data=dataset_multi_val,\n",
    "                    callbacks=[cp_callback,\n",
    "                               csv_logger,\n",
    "                               #sanity_check_callback,\n",
    "                              ])"
   ]
  },
  {
   "cell_type": "markdown",
   "metadata": {},
   "source": [
    "## Load old weights?"
   ]
  },
  {
   "cell_type": "code",
   "execution_count": 43,
   "metadata": {},
   "outputs": [],
   "source": [
    "# Loads the weights from the checkpoint path above\n",
    "# new_model.load_weights(checkpoint_path)"
   ]
  },
  {
   "cell_type": "markdown",
   "metadata": {},
   "source": [
    "## Create the datasets (incl. image pre-processing, resizing, putting into batches)"
   ]
  },
  {
   "cell_type": "markdown",
   "metadata": {},
   "source": [
    "## Save history and model"
   ]
  },
  {
   "cell_type": "code",
   "execution_count": 16,
   "metadata": {},
   "outputs": [],
   "source": [
    "# Save the training history\n",
    "\n",
    "pickle.dump(history.history, open(training_history_path, 'wb'))\n",
    "\n",
    "# Save the model\n",
    "multi_input_model.save(saved_model_path)"
   ]
  },
  {
   "cell_type": "code",
   "execution_count": 19,
   "metadata": {},
   "outputs": [
    {
     "data": {
      "text/plain": [
       "'/home/ubuntu/efs/models/Saved_models/model_Multi_input_sample_size_15000_epoch_10_dense_2_neurons_1024_losswbc__num_open_layers_2_penalty_weight_10.h5'"
      ]
     },
     "execution_count": 19,
     "metadata": {},
     "output_type": "execute_result"
    }
   ],
   "source": [
    "saved_model_path"
   ]
  },
  {
   "cell_type": "code",
   "execution_count": null,
   "metadata": {},
   "outputs": [],
   "source": []
  }
 ],
 "metadata": {
  "kernelspec": {
   "display_name": "Environment (conda_tensorflow2_p36)",
   "language": "python",
   "name": "conda_tensorflow2_p36"
  },
  "language_info": {
   "codemirror_mode": {
    "name": "ipython",
    "version": 3
   },
   "file_extension": ".py",
   "mimetype": "text/x-python",
   "name": "python",
   "nbconvert_exporter": "python",
   "pygments_lexer": "ipython3",
   "version": "3.6.5"
  },
  "toc": {
   "base_numbering": 1,
   "nav_menu": {},
   "number_sections": true,
   "sideBar": true,
   "skip_h1_title": false,
   "title_cell": "Table of Contents",
   "title_sidebar": "Contents",
   "toc_cell": false,
   "toc_position": {
    "height": "calc(100% - 180px)",
    "left": "10px",
    "top": "150px",
    "width": "384px"
   },
   "toc_section_display": true,
   "toc_window_display": true
  }
 },
 "nbformat": 4,
 "nbformat_minor": 2
}
